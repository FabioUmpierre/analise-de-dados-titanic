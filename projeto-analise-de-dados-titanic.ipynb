{
 "cells": [
  {
   "cell_type": "markdown",
   "metadata": {
    "papermill": {
     "duration": 0.0533,
     "end_time": "2020-10-03T01:14:23.480443",
     "exception": false,
     "start_time": "2020-10-03T01:14:23.427143",
     "status": "completed"
    },
    "tags": []
   },
   "source": [
    "#Importando as principais bibliotecas"
   ]
  },
  {
   "cell_type": "code",
   "execution_count": 1,
   "metadata": {
    "execution": {
     "iopub.execute_input": "2020-10-03T01:14:23.576099Z",
     "iopub.status.busy": "2020-10-03T01:14:23.575192Z",
     "iopub.status.idle": "2020-10-03T01:14:24.679132Z",
     "shell.execute_reply": "2020-10-03T01:14:24.678258Z"
    },
    "papermill": {
     "duration": 1.153283,
     "end_time": "2020-10-03T01:14:24.679274",
     "exception": false,
     "start_time": "2020-10-03T01:14:23.525991",
     "status": "completed"
    },
    "tags": []
   },
   "outputs": [],
   "source": [
    "import pandas as pd\n",
    "import numpy as np\n",
    "import matplotlib.pyplot as plt\n",
    "import seaborn as sns\n",
    "%matplotlib inline"
   ]
  },
  {
   "cell_type": "markdown",
   "metadata": {
    "papermill": {
     "duration": 0.034479,
     "end_time": "2020-10-03T01:14:24.749219",
     "exception": false,
     "start_time": "2020-10-03T01:14:24.714740",
     "status": "completed"
    },
    "tags": []
   },
   "source": [
    "#lendo o arquivo titanic_train.csv em um dataframe pandas"
   ]
  },
  {
   "cell_type": "code",
   "execution_count": 2,
   "metadata": {
    "execution": {
     "iopub.execute_input": "2020-10-03T01:14:24.827516Z",
     "iopub.status.busy": "2020-10-03T01:14:24.826469Z",
     "iopub.status.idle": "2020-10-03T01:14:24.841397Z",
     "shell.execute_reply": "2020-10-03T01:14:24.840720Z"
    },
    "papermill": {
     "duration": 0.057254,
     "end_time": "2020-10-03T01:14:24.841524",
     "exception": false,
     "start_time": "2020-10-03T01:14:24.784270",
     "status": "completed"
    },
    "tags": []
   },
   "outputs": [],
   "source": [
    "train = pd.read_csv('../input/titanic-train/titanic_train.csv')"
   ]
  },
  {
   "cell_type": "code",
   "execution_count": 3,
   "metadata": {
    "execution": {
     "iopub.execute_input": "2020-10-03T01:14:24.964522Z",
     "iopub.status.busy": "2020-10-03T01:14:24.963660Z",
     "iopub.status.idle": "2020-10-03T01:14:24.982143Z",
     "shell.execute_reply": "2020-10-03T01:14:24.982760Z"
    },
    "papermill": {
     "duration": 0.102521,
     "end_time": "2020-10-03T01:14:24.982927",
     "exception": false,
     "start_time": "2020-10-03T01:14:24.880406",
     "status": "completed"
    },
    "tags": []
   },
   "outputs": [
    {
     "data": {
      "text/html": [
       "<div>\n",
       "<style scoped>\n",
       "    .dataframe tbody tr th:only-of-type {\n",
       "        vertical-align: middle;\n",
       "    }\n",
       "\n",
       "    .dataframe tbody tr th {\n",
       "        vertical-align: top;\n",
       "    }\n",
       "\n",
       "    .dataframe thead th {\n",
       "        text-align: right;\n",
       "    }\n",
       "</style>\n",
       "<table border=\"1\" class=\"dataframe\">\n",
       "  <thead>\n",
       "    <tr style=\"text-align: right;\">\n",
       "      <th></th>\n",
       "      <th>PassengerId</th>\n",
       "      <th>Survived</th>\n",
       "      <th>Pclass</th>\n",
       "      <th>Name</th>\n",
       "      <th>Sex</th>\n",
       "      <th>Age</th>\n",
       "      <th>SibSp</th>\n",
       "      <th>Parch</th>\n",
       "      <th>Ticket</th>\n",
       "      <th>Fare</th>\n",
       "      <th>Cabin</th>\n",
       "      <th>Embarked</th>\n",
       "    </tr>\n",
       "  </thead>\n",
       "  <tbody>\n",
       "    <tr>\n",
       "      <th>0</th>\n",
       "      <td>1</td>\n",
       "      <td>0</td>\n",
       "      <td>3</td>\n",
       "      <td>Braund, Mr. Owen Harris</td>\n",
       "      <td>male</td>\n",
       "      <td>22.0</td>\n",
       "      <td>1</td>\n",
       "      <td>0</td>\n",
       "      <td>A/5 21171</td>\n",
       "      <td>7.2500</td>\n",
       "      <td>NaN</td>\n",
       "      <td>S</td>\n",
       "    </tr>\n",
       "    <tr>\n",
       "      <th>1</th>\n",
       "      <td>2</td>\n",
       "      <td>1</td>\n",
       "      <td>1</td>\n",
       "      <td>Cumings, Mrs. John Bradley (Florence Briggs Th...</td>\n",
       "      <td>female</td>\n",
       "      <td>38.0</td>\n",
       "      <td>1</td>\n",
       "      <td>0</td>\n",
       "      <td>PC 17599</td>\n",
       "      <td>71.2833</td>\n",
       "      <td>C85</td>\n",
       "      <td>C</td>\n",
       "    </tr>\n",
       "    <tr>\n",
       "      <th>2</th>\n",
       "      <td>3</td>\n",
       "      <td>1</td>\n",
       "      <td>3</td>\n",
       "      <td>Heikkinen, Miss. Laina</td>\n",
       "      <td>female</td>\n",
       "      <td>26.0</td>\n",
       "      <td>0</td>\n",
       "      <td>0</td>\n",
       "      <td>STON/O2. 3101282</td>\n",
       "      <td>7.9250</td>\n",
       "      <td>NaN</td>\n",
       "      <td>S</td>\n",
       "    </tr>\n",
       "    <tr>\n",
       "      <th>3</th>\n",
       "      <td>4</td>\n",
       "      <td>1</td>\n",
       "      <td>1</td>\n",
       "      <td>Futrelle, Mrs. Jacques Heath (Lily May Peel)</td>\n",
       "      <td>female</td>\n",
       "      <td>35.0</td>\n",
       "      <td>1</td>\n",
       "      <td>0</td>\n",
       "      <td>113803</td>\n",
       "      <td>53.1000</td>\n",
       "      <td>C123</td>\n",
       "      <td>S</td>\n",
       "    </tr>\n",
       "    <tr>\n",
       "      <th>4</th>\n",
       "      <td>5</td>\n",
       "      <td>0</td>\n",
       "      <td>3</td>\n",
       "      <td>Allen, Mr. William Henry</td>\n",
       "      <td>male</td>\n",
       "      <td>35.0</td>\n",
       "      <td>0</td>\n",
       "      <td>0</td>\n",
       "      <td>373450</td>\n",
       "      <td>8.0500</td>\n",
       "      <td>NaN</td>\n",
       "      <td>S</td>\n",
       "    </tr>\n",
       "    <tr>\n",
       "      <th>...</th>\n",
       "      <td>...</td>\n",
       "      <td>...</td>\n",
       "      <td>...</td>\n",
       "      <td>...</td>\n",
       "      <td>...</td>\n",
       "      <td>...</td>\n",
       "      <td>...</td>\n",
       "      <td>...</td>\n",
       "      <td>...</td>\n",
       "      <td>...</td>\n",
       "      <td>...</td>\n",
       "      <td>...</td>\n",
       "    </tr>\n",
       "    <tr>\n",
       "      <th>886</th>\n",
       "      <td>887</td>\n",
       "      <td>0</td>\n",
       "      <td>2</td>\n",
       "      <td>Montvila, Rev. Juozas</td>\n",
       "      <td>male</td>\n",
       "      <td>27.0</td>\n",
       "      <td>0</td>\n",
       "      <td>0</td>\n",
       "      <td>211536</td>\n",
       "      <td>13.0000</td>\n",
       "      <td>NaN</td>\n",
       "      <td>S</td>\n",
       "    </tr>\n",
       "    <tr>\n",
       "      <th>887</th>\n",
       "      <td>888</td>\n",
       "      <td>1</td>\n",
       "      <td>1</td>\n",
       "      <td>Graham, Miss. Margaret Edith</td>\n",
       "      <td>female</td>\n",
       "      <td>19.0</td>\n",
       "      <td>0</td>\n",
       "      <td>0</td>\n",
       "      <td>112053</td>\n",
       "      <td>30.0000</td>\n",
       "      <td>B42</td>\n",
       "      <td>S</td>\n",
       "    </tr>\n",
       "    <tr>\n",
       "      <th>888</th>\n",
       "      <td>889</td>\n",
       "      <td>0</td>\n",
       "      <td>3</td>\n",
       "      <td>Johnston, Miss. Catherine Helen \"Carrie\"</td>\n",
       "      <td>female</td>\n",
       "      <td>NaN</td>\n",
       "      <td>1</td>\n",
       "      <td>2</td>\n",
       "      <td>W./C. 6607</td>\n",
       "      <td>23.4500</td>\n",
       "      <td>NaN</td>\n",
       "      <td>S</td>\n",
       "    </tr>\n",
       "    <tr>\n",
       "      <th>889</th>\n",
       "      <td>890</td>\n",
       "      <td>1</td>\n",
       "      <td>1</td>\n",
       "      <td>Behr, Mr. Karl Howell</td>\n",
       "      <td>male</td>\n",
       "      <td>26.0</td>\n",
       "      <td>0</td>\n",
       "      <td>0</td>\n",
       "      <td>111369</td>\n",
       "      <td>30.0000</td>\n",
       "      <td>C148</td>\n",
       "      <td>C</td>\n",
       "    </tr>\n",
       "    <tr>\n",
       "      <th>890</th>\n",
       "      <td>891</td>\n",
       "      <td>0</td>\n",
       "      <td>3</td>\n",
       "      <td>Dooley, Mr. Patrick</td>\n",
       "      <td>male</td>\n",
       "      <td>32.0</td>\n",
       "      <td>0</td>\n",
       "      <td>0</td>\n",
       "      <td>370376</td>\n",
       "      <td>7.7500</td>\n",
       "      <td>NaN</td>\n",
       "      <td>Q</td>\n",
       "    </tr>\n",
       "  </tbody>\n",
       "</table>\n",
       "<p>891 rows × 12 columns</p>\n",
       "</div>"
      ],
      "text/plain": [
       "     PassengerId  Survived  Pclass  \\\n",
       "0              1         0       3   \n",
       "1              2         1       1   \n",
       "2              3         1       3   \n",
       "3              4         1       1   \n",
       "4              5         0       3   \n",
       "..           ...       ...     ...   \n",
       "886          887         0       2   \n",
       "887          888         1       1   \n",
       "888          889         0       3   \n",
       "889          890         1       1   \n",
       "890          891         0       3   \n",
       "\n",
       "                                                  Name     Sex   Age  SibSp  \\\n",
       "0                              Braund, Mr. Owen Harris    male  22.0      1   \n",
       "1    Cumings, Mrs. John Bradley (Florence Briggs Th...  female  38.0      1   \n",
       "2                               Heikkinen, Miss. Laina  female  26.0      0   \n",
       "3         Futrelle, Mrs. Jacques Heath (Lily May Peel)  female  35.0      1   \n",
       "4                             Allen, Mr. William Henry    male  35.0      0   \n",
       "..                                                 ...     ...   ...    ...   \n",
       "886                              Montvila, Rev. Juozas    male  27.0      0   \n",
       "887                       Graham, Miss. Margaret Edith  female  19.0      0   \n",
       "888           Johnston, Miss. Catherine Helen \"Carrie\"  female   NaN      1   \n",
       "889                              Behr, Mr. Karl Howell    male  26.0      0   \n",
       "890                                Dooley, Mr. Patrick    male  32.0      0   \n",
       "\n",
       "     Parch            Ticket     Fare Cabin Embarked  \n",
       "0        0         A/5 21171   7.2500   NaN        S  \n",
       "1        0          PC 17599  71.2833   C85        C  \n",
       "2        0  STON/O2. 3101282   7.9250   NaN        S  \n",
       "3        0            113803  53.1000  C123        S  \n",
       "4        0            373450   8.0500   NaN        S  \n",
       "..     ...               ...      ...   ...      ...  \n",
       "886      0            211536  13.0000   NaN        S  \n",
       "887      0            112053  30.0000   B42        S  \n",
       "888      2        W./C. 6607  23.4500   NaN        S  \n",
       "889      0            111369  30.0000  C148        C  \n",
       "890      0            370376   7.7500   NaN        Q  \n",
       "\n",
       "[891 rows x 12 columns]"
      ]
     },
     "execution_count": 3,
     "metadata": {},
     "output_type": "execute_result"
    }
   ],
   "source": [
    "train"
   ]
  },
  {
   "cell_type": "markdown",
   "metadata": {
    "papermill": {
     "duration": 0.036094,
     "end_time": "2020-10-03T01:14:25.056338",
     "exception": false,
     "start_time": "2020-10-03T01:14:25.020244",
     "status": "completed"
    },
    "tags": []
   },
   "source": [
    "#Analise exploratoria dos dados"
   ]
  },
  {
   "cell_type": "code",
   "execution_count": 4,
   "metadata": {
    "execution": {
     "iopub.execute_input": "2020-10-03T01:14:25.138502Z",
     "iopub.status.busy": "2020-10-03T01:14:25.137631Z",
     "iopub.status.idle": "2020-10-03T01:14:25.371959Z",
     "shell.execute_reply": "2020-10-03T01:14:25.371209Z"
    },
    "papermill": {
     "duration": 0.279151,
     "end_time": "2020-10-03T01:14:25.372082",
     "exception": false,
     "start_time": "2020-10-03T01:14:25.092931",
     "status": "completed"
    },
    "tags": []
   },
   "outputs": [
    {
     "data": {
      "text/plain": [
       "<matplotlib.axes._subplots.AxesSubplot at 0x7fe396c5a4d0>"
      ]
     },
     "execution_count": 4,
     "metadata": {},
     "output_type": "execute_result"
    },
    {
     "data": {
      "image/png": "[encoded data removed]",
      "text/plain": [
       "<Figure size 432x288 with 1 Axes>"
      ]
     },
     "metadata": {
      "needs_background": "light"
     },
     "output_type": "display_data"
    }
   ],
   "source": [
    "sns.heatmap(train.isnull(), yticklabels = False, cbar = False, cmap = 'viridis')\n"
   ]
  },
  {
   "cell_type": "code",
   "execution_count": 5,
   "metadata": {
    "execution": {
     "iopub.execute_input": "2020-10-03T01:14:25.472763Z",
     "iopub.status.busy": "2020-10-03T01:14:25.466058Z",
     "iopub.status.idle": "2020-10-03T01:14:25.625689Z",
     "shell.execute_reply": "2020-10-03T01:14:25.626287Z"
    },
    "papermill": {
     "duration": 0.216307,
     "end_time": "2020-10-03T01:14:25.626435",
     "exception": false,
     "start_time": "2020-10-03T01:14:25.410128",
     "status": "completed"
    },
    "tags": []
   },
   "outputs": [
    {
     "data": {
      "text/plain": [
       "<matplotlib.axes._subplots.AxesSubplot at 0x7fe396a0fad0>"
      ]
     },
     "execution_count": 5,
     "metadata": {},
     "output_type": "execute_result"
    },
    {
     "data": {
      "image/png": "[encoded data removed]",
      "text/plain": [
       "<Figure size 432x288 with 1 Axes>"
      ]
     },
     "metadata": {},
     "output_type": "display_data"
    }
   ],
   "source": [
    "sns.set_style('whitegrid')\n",
    "sns.countplot(x='Survived',data=train,palette='RdBu_r')"
   ]
  },
  {
   "cell_type": "code",
   "execution_count": 6,
   "metadata": {
    "execution": {
     "iopub.execute_input": "2020-10-03T01:14:25.715009Z",
     "iopub.status.busy": "2020-10-03T01:14:25.713917Z",
     "iopub.status.idle": "2020-10-03T01:14:25.970433Z",
     "shell.execute_reply": "2020-10-03T01:14:25.969238Z"
    },
    "papermill": {
     "duration": 0.305248,
     "end_time": "2020-10-03T01:14:25.970631",
     "exception": false,
     "start_time": "2020-10-03T01:14:25.665383",
     "status": "completed"
    },
    "tags": []
   },
   "outputs": [
    {
     "data": {
      "text/plain": [
       "<matplotlib.axes._subplots.AxesSubplot at 0x7fe3968fe290>"
      ]
     },
     "execution_count": 6,
     "metadata": {},
     "output_type": "execute_result"
    },
    {
     "data": {
      "image/png": "[encoded data removed]",
      "text/plain": [
       "<Figure size 432x288 with 1 Axes>"
      ]
     },
     "metadata": {},
     "output_type": "display_data"
    }
   ],
   "source": [
    "sns.set_style('whitegrid')\n",
    "sns.countplot(x='Survived',hue='Pclass',data=train,palette='rainbow')\n",
    "# aqui vemos que o maior indice de mortes foram dos passageiros da classe economica."
   ]
  },
  {
   "cell_type": "code",
   "execution_count": 7,
   "metadata": {
    "execution": {
     "iopub.execute_input": "2020-10-03T01:14:26.080094Z",
     "iopub.status.busy": "2020-10-03T01:14:26.079353Z",
     "iopub.status.idle": "2020-10-03T01:14:26.518250Z",
     "shell.execute_reply": "2020-10-03T01:14:26.517520Z"
    },
    "papermill": {
     "duration": 0.492514,
     "end_time": "2020-10-03T01:14:26.518378",
     "exception": false,
     "start_time": "2020-10-03T01:14:26.025864",
     "status": "completed"
    },
    "tags": []
   },
   "outputs": [
    {
     "data": {
      "text/plain": [
       "<matplotlib.axes._subplots.AxesSubplot at 0x7fe39483ce50>"
      ]
     },
     "execution_count": 7,
     "metadata": {},
     "output_type": "execute_result"
    },
    {
     "data": {
      "image/png": "[encoded data removed]",
      "text/plain": [
       "<Figure size 432x288 with 1 Axes>"
      ]
     },
     "metadata": {},
     "output_type": "display_data"
    }
   ],
   "source": [
    "train['Age'].hist(bins=30,color='darkred',alpha=0.7)"
   ]
  },
  {
   "cell_type": "code",
   "execution_count": 8,
   "metadata": {
    "execution": {
     "iopub.execute_input": "2020-10-03T01:14:26.613396Z",
     "iopub.status.busy": "2020-10-03T01:14:26.612550Z",
     "iopub.status.idle": "2020-10-03T01:14:26.615260Z",
     "shell.execute_reply": "2020-10-03T01:14:26.615805Z"
    },
    "papermill": {
     "duration": 0.05569,
     "end_time": "2020-10-03T01:14:26.615972",
     "exception": false,
     "start_time": "2020-10-03T01:14:26.560282",
     "status": "completed"
    },
    "tags": []
   },
   "outputs": [],
   "source": [
    "train.drop('Cabin', axis = 1, inplace = True)"
   ]
  },
  {
   "cell_type": "code",
   "execution_count": 9,
   "metadata": {
    "execution": {
     "iopub.execute_input": "2020-10-03T01:14:26.713258Z",
     "iopub.status.busy": "2020-10-03T01:14:26.712192Z",
     "iopub.status.idle": "2020-10-03T01:14:27.136491Z",
     "shell.execute_reply": "2020-10-03T01:14:27.137059Z"
    },
    "papermill": {
     "duration": 0.479277,
     "end_time": "2020-10-03T01:14:27.137223",
     "exception": false,
     "start_time": "2020-10-03T01:14:26.657946",
     "status": "completed"
    },
    "tags": []
   },
   "outputs": [
    {
     "data": {
      "text/plain": [
       "<matplotlib.axes._subplots.AxesSubplot at 0x7fe396c87050>"
      ]
     },
     "execution_count": 9,
     "metadata": {},
     "output_type": "execute_result"
    },
    {
     "data": {
      "image/png": "[encoded data removed]",
      "text/plain": [
       "<Figure size 432x288 with 1 Axes>"
      ]
     },
     "metadata": {},
     "output_type": "display_data"
    }
   ],
   "source": [
    "sns.distplot(train['Age'].dropna(),kde=False,color='darkred',bins=30)"
   ]
  },
  {
   "cell_type": "code",
   "execution_count": 10,
   "metadata": {
    "execution": {
     "iopub.execute_input": "2020-10-03T01:14:27.239007Z",
     "iopub.status.busy": "2020-10-03T01:14:27.235079Z",
     "iopub.status.idle": "2020-10-03T01:14:27.556075Z",
     "shell.execute_reply": "2020-10-03T01:14:27.555446Z"
    },
    "papermill": {
     "duration": 0.374782,
     "end_time": "2020-10-03T01:14:27.556195",
     "exception": false,
     "start_time": "2020-10-03T01:14:27.181413",
     "status": "completed"
    },
    "tags": []
   },
   "outputs": [
    {
     "data": {
      "text/plain": [
       "<matplotlib.axes._subplots.AxesSubplot at 0x7fe3946db190>"
      ]
     },
     "execution_count": 10,
     "metadata": {},
     "output_type": "execute_result"
    },
    {
     "data": {
      "image/png": "[encoded data removed]",
      "text/plain": [
       "<Figure size 432x288 with 1 Axes>"
      ]
     },
     "metadata": {},
     "output_type": "display_data"
    }
   ],
   "source": [
    "sns.countplot(x='SibSp',data=train)"
   ]
  },
  {
   "cell_type": "code",
   "execution_count": 11,
   "metadata": {
    "execution": {
     "iopub.execute_input": "2020-10-03T01:14:27.666266Z",
     "iopub.status.busy": "2020-10-03T01:14:27.665501Z",
     "iopub.status.idle": "2020-10-03T01:14:28.074218Z",
     "shell.execute_reply": "2020-10-03T01:14:28.073404Z"
    },
    "papermill": {
     "duration": 0.471486,
     "end_time": "2020-10-03T01:14:28.074360",
     "exception": false,
     "start_time": "2020-10-03T01:14:27.602874",
     "status": "completed"
    },
    "tags": []
   },
   "outputs": [
    {
     "data": {
      "text/plain": [
       "<matplotlib.axes._subplots.AxesSubplot at 0x7fe3946b6f50>"
      ]
     },
     "execution_count": 11,
     "metadata": {},
     "output_type": "execute_result"
    },
    {
     "data": {
      "image/png": "[encoded data removed]",
      "text/plain": [
       "<Figure size 576x288 with 1 Axes>"
      ]
     },
     "metadata": {},
     "output_type": "display_data"
    }
   ],
   "source": [
    "train['Fare'].hist(color='green',bins=40,figsize=(8,4))"
   ]
  },
  {
   "cell_type": "markdown",
   "metadata": {
    "papermill": {
     "duration": 0.051563,
     "end_time": "2020-10-03T01:14:28.177590",
     "exception": false,
     "start_time": "2020-10-03T01:14:28.126027",
     "status": "completed"
    },
    "tags": []
   },
   "source": [
    "#Limpando os dados\n",
    "#Queremos preencher dados de idade faltantes, em vez de simplesmente deixar cair as linhas de dados de idade que faltam."
   ]
  },
  {
   "cell_type": "code",
   "execution_count": 12,
   "metadata": {
    "execution": {
     "iopub.execute_input": "2020-10-03T01:14:28.293141Z",
     "iopub.status.busy": "2020-10-03T01:14:28.291934Z",
     "iopub.status.idle": "2020-10-03T01:14:28.528180Z",
     "shell.execute_reply": "2020-10-03T01:14:28.527436Z"
    },
    "papermill": {
     "duration": 0.298449,
     "end_time": "2020-10-03T01:14:28.528321",
     "exception": false,
     "start_time": "2020-10-03T01:14:28.229872",
     "status": "completed"
    },
    "tags": []
   },
   "outputs": [
    {
     "data": {
      "text/plain": [
       "<matplotlib.axes._subplots.AxesSubplot at 0x7fe3945b3410>"
      ]
     },
     "execution_count": 12,
     "metadata": {},
     "output_type": "execute_result"
    },
    {
     "data": {
      "image/png": "[encoded data removed]",
      "text/plain": [
       "<Figure size 864x504 with 1 Axes>"
      ]
     },
     "metadata": {},
     "output_type": "display_data"
    }
   ],
   "source": [
    "plt.figure(figsize=(12, 7))\n",
    "sns.boxplot(x='Pclass',y='Age',data=train,palette='winter')"
   ]
  },
  {
   "cell_type": "code",
   "execution_count": 13,
   "metadata": {
    "execution": {
     "iopub.execute_input": "2020-10-03T01:14:28.633666Z",
     "iopub.status.busy": "2020-10-03T01:14:28.632902Z",
     "iopub.status.idle": "2020-10-03T01:14:28.636369Z",
     "shell.execute_reply": "2020-10-03T01:14:28.635620Z"
    },
    "papermill": {
     "duration": 0.059557,
     "end_time": "2020-10-03T01:14:28.636490",
     "exception": false,
     "start_time": "2020-10-03T01:14:28.576933",
     "status": "completed"
    },
    "tags": []
   },
   "outputs": [],
   "source": [
    "def impute_age(cols):\n",
    "    Age = cols[0]\n",
    "    Pclass = cols[1]\n",
    "    \n",
    "    if pd.isnull(Age):\n",
    "\n",
    "        if Pclass == 1:\n",
    "            return 37\n",
    "\n",
    "        elif Pclass == 2:\n",
    "            return 29\n",
    "\n",
    "        else:\n",
    "            return 24\n",
    "\n",
    "    else:\n",
    "        return Age"
   ]
  },
  {
   "cell_type": "code",
   "execution_count": 14,
   "metadata": {
    "execution": {
     "iopub.execute_input": "2020-10-03T01:14:28.739017Z",
     "iopub.status.busy": "2020-10-03T01:14:28.738171Z",
     "iopub.status.idle": "2020-10-03T01:14:28.760628Z",
     "shell.execute_reply": "2020-10-03T01:14:28.759977Z"
    },
    "papermill": {
     "duration": 0.076434,
     "end_time": "2020-10-03T01:14:28.760769",
     "exception": false,
     "start_time": "2020-10-03T01:14:28.684335",
     "status": "completed"
    },
    "tags": []
   },
   "outputs": [],
   "source": [
    "train['Age'] = train[['Age','Pclass']].apply(impute_age,axis=1)"
   ]
  },
  {
   "cell_type": "code",
   "execution_count": 15,
   "metadata": {
    "execution": {
     "iopub.execute_input": "2020-10-03T01:14:28.876165Z",
     "iopub.status.busy": "2020-10-03T01:14:28.875052Z",
     "iopub.status.idle": "2020-10-03T01:14:28.880058Z",
     "shell.execute_reply": "2020-10-03T01:14:28.879459Z"
    },
    "papermill": {
     "duration": 0.071502,
     "end_time": "2020-10-03T01:14:28.880187",
     "exception": false,
     "start_time": "2020-10-03T01:14:28.808685",
     "status": "completed"
    },
    "tags": []
   },
   "outputs": [
    {
     "data": {
      "text/html": [
       "<div>\n",
       "<style scoped>\n",
       "    .dataframe tbody tr th:only-of-type {\n",
       "        vertical-align: middle;\n",
       "    }\n",
       "\n",
       "    .dataframe tbody tr th {\n",
       "        vertical-align: top;\n",
       "    }\n",
       "\n",
       "    .dataframe thead th {\n",
       "        text-align: right;\n",
       "    }\n",
       "</style>\n",
       "<table border=\"1\" class=\"dataframe\">\n",
       "  <thead>\n",
       "    <tr style=\"text-align: right;\">\n",
       "      <th></th>\n",
       "      <th>PassengerId</th>\n",
       "      <th>Survived</th>\n",
       "      <th>Pclass</th>\n",
       "      <th>Name</th>\n",
       "      <th>Sex</th>\n",
       "      <th>Age</th>\n",
       "      <th>SibSp</th>\n",
       "      <th>Parch</th>\n",
       "      <th>Ticket</th>\n",
       "      <th>Fare</th>\n",
       "      <th>Embarked</th>\n",
       "    </tr>\n",
       "  </thead>\n",
       "  <tbody>\n",
       "    <tr>\n",
       "      <th>0</th>\n",
       "      <td>1</td>\n",
       "      <td>0</td>\n",
       "      <td>3</td>\n",
       "      <td>Braund, Mr. Owen Harris</td>\n",
       "      <td>male</td>\n",
       "      <td>22.0</td>\n",
       "      <td>1</td>\n",
       "      <td>0</td>\n",
       "      <td>A/5 21171</td>\n",
       "      <td>7.2500</td>\n",
       "      <td>S</td>\n",
       "    </tr>\n",
       "    <tr>\n",
       "      <th>1</th>\n",
       "      <td>2</td>\n",
       "      <td>1</td>\n",
       "      <td>1</td>\n",
       "      <td>Cumings, Mrs. John Bradley (Florence Briggs Th...</td>\n",
       "      <td>female</td>\n",
       "      <td>38.0</td>\n",
       "      <td>1</td>\n",
       "      <td>0</td>\n",
       "      <td>PC 17599</td>\n",
       "      <td>71.2833</td>\n",
       "      <td>C</td>\n",
       "    </tr>\n",
       "    <tr>\n",
       "      <th>2</th>\n",
       "      <td>3</td>\n",
       "      <td>1</td>\n",
       "      <td>3</td>\n",
       "      <td>Heikkinen, Miss. Laina</td>\n",
       "      <td>female</td>\n",
       "      <td>26.0</td>\n",
       "      <td>0</td>\n",
       "      <td>0</td>\n",
       "      <td>STON/O2. 3101282</td>\n",
       "      <td>7.9250</td>\n",
       "      <td>S</td>\n",
       "    </tr>\n",
       "    <tr>\n",
       "      <th>3</th>\n",
       "      <td>4</td>\n",
       "      <td>1</td>\n",
       "      <td>1</td>\n",
       "      <td>Futrelle, Mrs. Jacques Heath (Lily May Peel)</td>\n",
       "      <td>female</td>\n",
       "      <td>35.0</td>\n",
       "      <td>1</td>\n",
       "      <td>0</td>\n",
       "      <td>113803</td>\n",
       "      <td>53.1000</td>\n",
       "      <td>S</td>\n",
       "    </tr>\n",
       "    <tr>\n",
       "      <th>4</th>\n",
       "      <td>5</td>\n",
       "      <td>0</td>\n",
       "      <td>3</td>\n",
       "      <td>Allen, Mr. William Henry</td>\n",
       "      <td>male</td>\n",
       "      <td>35.0</td>\n",
       "      <td>0</td>\n",
       "      <td>0</td>\n",
       "      <td>373450</td>\n",
       "      <td>8.0500</td>\n",
       "      <td>S</td>\n",
       "    </tr>\n",
       "  </tbody>\n",
       "</table>\n",
       "</div>"
      ],
      "text/plain": [
       "   PassengerId  Survived  Pclass  \\\n",
       "0            1         0       3   \n",
       "1            2         1       1   \n",
       "2            3         1       3   \n",
       "3            4         1       1   \n",
       "4            5         0       3   \n",
       "\n",
       "                                                Name     Sex   Age  SibSp  \\\n",
       "0                            Braund, Mr. Owen Harris    male  22.0      1   \n",
       "1  Cumings, Mrs. John Bradley (Florence Briggs Th...  female  38.0      1   \n",
       "2                             Heikkinen, Miss. Laina  female  26.0      0   \n",
       "3       Futrelle, Mrs. Jacques Heath (Lily May Peel)  female  35.0      1   \n",
       "4                           Allen, Mr. William Henry    male  35.0      0   \n",
       "\n",
       "   Parch            Ticket     Fare Embarked  \n",
       "0      0         A/5 21171   7.2500        S  \n",
       "1      0          PC 17599  71.2833        C  \n",
       "2      0  STON/O2. 3101282   7.9250        S  \n",
       "3      0            113803  53.1000        S  \n",
       "4      0            373450   8.0500        S  "
      ]
     },
     "execution_count": 15,
     "metadata": {},
     "output_type": "execute_result"
    }
   ],
   "source": [
    "train.head()"
   ]
  },
  {
   "cell_type": "raw",
   "metadata": {
    "papermill": {
     "duration": 0.05255,
     "end_time": "2020-10-03T01:14:28.985852",
     "exception": false,
     "start_time": "2020-10-03T01:14:28.933302",
     "status": "completed"
    },
    "tags": []
   },
   "source": [
    "train.dropna(inplace = True)"
   ]
  },
  {
   "cell_type": "markdown",
   "metadata": {
    "papermill": {
     "duration": 0.049124,
     "end_time": "2020-10-03T01:14:29.086582",
     "exception": false,
     "start_time": "2020-10-03T01:14:29.037458",
     "status": "completed"
    },
    "tags": []
   },
   "source": [
    "#convertendo dados categoricos\n",
    "#agora vamos converter alguns dados categoricos para que se possa trabalhar eles com machine learning"
   ]
  },
  {
   "cell_type": "code",
   "execution_count": 16,
   "metadata": {
    "execution": {
     "iopub.execute_input": "2020-10-03T01:14:29.199379Z",
     "iopub.status.busy": "2020-10-03T01:14:29.196780Z",
     "iopub.status.idle": "2020-10-03T01:14:29.210581Z",
     "shell.execute_reply": "2020-10-03T01:14:29.209674Z"
    },
    "papermill": {
     "duration": 0.069817,
     "end_time": "2020-10-03T01:14:29.210756",
     "exception": false,
     "start_time": "2020-10-03T01:14:29.140939",
     "status": "completed"
    },
    "tags": []
   },
   "outputs": [
    {
     "name": "stdout",
     "output_type": "stream",
     "text": [
      "<class 'pandas.core.frame.DataFrame'>\n",
      "RangeIndex: 891 entries, 0 to 890\n",
      "Data columns (total 11 columns):\n",
      " #   Column       Non-Null Count  Dtype  \n",
      "---  ------       --------------  -----  \n",
      " 0   PassengerId  891 non-null    int64  \n",
      " 1   Survived     891 non-null    int64  \n",
      " 2   Pclass       891 non-null    int64  \n",
      " 3   Name         891 non-null    object \n",
      " 4   Sex          891 non-null    object \n",
      " 5   Age          891 non-null    float64\n",
      " 6   SibSp        891 non-null    int64  \n",
      " 7   Parch        891 non-null    int64  \n",
      " 8   Ticket       891 non-null    object \n",
      " 9   Fare         891 non-null    float64\n",
      " 10  Embarked     889 non-null    object \n",
      "dtypes: float64(2), int64(5), object(4)\n",
      "memory usage: 76.7+ KB\n"
     ]
    }
   ],
   "source": [
    "train.info()"
   ]
  },
  {
   "cell_type": "code",
   "execution_count": 17,
   "metadata": {
    "execution": {
     "iopub.execute_input": "2020-10-03T01:14:29.319142Z",
     "iopub.status.busy": "2020-10-03T01:14:29.318185Z",
     "iopub.status.idle": "2020-10-03T01:14:29.322178Z",
     "shell.execute_reply": "2020-10-03T01:14:29.321541Z"
    },
    "papermill": {
     "duration": 0.060831,
     "end_time": "2020-10-03T01:14:29.322316",
     "exception": false,
     "start_time": "2020-10-03T01:14:29.261485",
     "status": "completed"
    },
    "tags": []
   },
   "outputs": [],
   "source": [
    "sex = pd.get_dummies(train['Sex'], drop_first = True)\n"
   ]
  },
  {
   "cell_type": "code",
   "execution_count": 18,
   "metadata": {
    "execution": {
     "iopub.execute_input": "2020-10-03T01:14:29.430799Z",
     "iopub.status.busy": "2020-10-03T01:14:29.430088Z",
     "iopub.status.idle": "2020-10-03T01:14:29.433733Z",
     "shell.execute_reply": "2020-10-03T01:14:29.433005Z"
    },
    "papermill": {
     "duration": 0.061803,
     "end_time": "2020-10-03T01:14:29.433859",
     "exception": false,
     "start_time": "2020-10-03T01:14:29.372056",
     "status": "completed"
    },
    "tags": []
   },
   "outputs": [],
   "source": [
    "embark = pd.get_dummies(train['Embarked'], drop_first = True)"
   ]
  },
  {
   "cell_type": "code",
   "execution_count": 19,
   "metadata": {
    "execution": {
     "iopub.execute_input": "2020-10-03T01:14:29.541595Z",
     "iopub.status.busy": "2020-10-03T01:14:29.540859Z",
     "iopub.status.idle": "2020-10-03T01:14:29.544427Z",
     "shell.execute_reply": "2020-10-03T01:14:29.543839Z"
    },
    "papermill": {
     "duration": 0.060884,
     "end_time": "2020-10-03T01:14:29.544555",
     "exception": false,
     "start_time": "2020-10-03T01:14:29.483671",
     "status": "completed"
    },
    "tags": []
   },
   "outputs": [],
   "source": [
    "train.drop(['Sex','Embarked','Name','Ticket'], axis = 1, inplace = True)"
   ]
  },
  {
   "cell_type": "code",
   "execution_count": 20,
   "metadata": {
    "execution": {
     "iopub.execute_input": "2020-10-03T01:14:29.654110Z",
     "iopub.status.busy": "2020-10-03T01:14:29.653224Z",
     "iopub.status.idle": "2020-10-03T01:14:29.656417Z",
     "shell.execute_reply": "2020-10-03T01:14:29.655848Z"
    },
    "papermill": {
     "duration": 0.060779,
     "end_time": "2020-10-03T01:14:29.656547",
     "exception": false,
     "start_time": "2020-10-03T01:14:29.595768",
     "status": "completed"
    },
    "tags": []
   },
   "outputs": [],
   "source": [
    "train = pd.concat([train,sex,embark], axis = 1)"
   ]
  },
  {
   "cell_type": "code",
   "execution_count": 21,
   "metadata": {
    "execution": {
     "iopub.execute_input": "2020-10-03T01:14:29.773829Z",
     "iopub.status.busy": "2020-10-03T01:14:29.772841Z",
     "iopub.status.idle": "2020-10-03T01:14:29.776971Z",
     "shell.execute_reply": "2020-10-03T01:14:29.777546Z"
    },
    "papermill": {
     "duration": 0.070654,
     "end_time": "2020-10-03T01:14:29.777734",
     "exception": false,
     "start_time": "2020-10-03T01:14:29.707080",
     "status": "completed"
    },
    "tags": []
   },
   "outputs": [
    {
     "data": {
      "text/html": [
       "<div>\n",
       "<style scoped>\n",
       "    .dataframe tbody tr th:only-of-type {\n",
       "        vertical-align: middle;\n",
       "    }\n",
       "\n",
       "    .dataframe tbody tr th {\n",
       "        vertical-align: top;\n",
       "    }\n",
       "\n",
       "    .dataframe thead th {\n",
       "        text-align: right;\n",
       "    }\n",
       "</style>\n",
       "<table border=\"1\" class=\"dataframe\">\n",
       "  <thead>\n",
       "    <tr style=\"text-align: right;\">\n",
       "      <th></th>\n",
       "      <th>PassengerId</th>\n",
       "      <th>Survived</th>\n",
       "      <th>Pclass</th>\n",
       "      <th>Age</th>\n",
       "      <th>SibSp</th>\n",
       "      <th>Parch</th>\n",
       "      <th>Fare</th>\n",
       "      <th>male</th>\n",
       "      <th>Q</th>\n",
       "      <th>S</th>\n",
       "    </tr>\n",
       "  </thead>\n",
       "  <tbody>\n",
       "    <tr>\n",
       "      <th>0</th>\n",
       "      <td>1</td>\n",
       "      <td>0</td>\n",
       "      <td>3</td>\n",
       "      <td>22.0</td>\n",
       "      <td>1</td>\n",
       "      <td>0</td>\n",
       "      <td>7.2500</td>\n",
       "      <td>1</td>\n",
       "      <td>0</td>\n",
       "      <td>1</td>\n",
       "    </tr>\n",
       "    <tr>\n",
       "      <th>1</th>\n",
       "      <td>2</td>\n",
       "      <td>1</td>\n",
       "      <td>1</td>\n",
       "      <td>38.0</td>\n",
       "      <td>1</td>\n",
       "      <td>0</td>\n",
       "      <td>71.2833</td>\n",
       "      <td>0</td>\n",
       "      <td>0</td>\n",
       "      <td>0</td>\n",
       "    </tr>\n",
       "    <tr>\n",
       "      <th>2</th>\n",
       "      <td>3</td>\n",
       "      <td>1</td>\n",
       "      <td>3</td>\n",
       "      <td>26.0</td>\n",
       "      <td>0</td>\n",
       "      <td>0</td>\n",
       "      <td>7.9250</td>\n",
       "      <td>0</td>\n",
       "      <td>0</td>\n",
       "      <td>1</td>\n",
       "    </tr>\n",
       "    <tr>\n",
       "      <th>3</th>\n",
       "      <td>4</td>\n",
       "      <td>1</td>\n",
       "      <td>1</td>\n",
       "      <td>35.0</td>\n",
       "      <td>1</td>\n",
       "      <td>0</td>\n",
       "      <td>53.1000</td>\n",
       "      <td>0</td>\n",
       "      <td>0</td>\n",
       "      <td>1</td>\n",
       "    </tr>\n",
       "    <tr>\n",
       "      <th>4</th>\n",
       "      <td>5</td>\n",
       "      <td>0</td>\n",
       "      <td>3</td>\n",
       "      <td>35.0</td>\n",
       "      <td>0</td>\n",
       "      <td>0</td>\n",
       "      <td>8.0500</td>\n",
       "      <td>1</td>\n",
       "      <td>0</td>\n",
       "      <td>1</td>\n",
       "    </tr>\n",
       "  </tbody>\n",
       "</table>\n",
       "</div>"
      ],
      "text/plain": [
       "   PassengerId  Survived  Pclass   Age  SibSp  Parch     Fare  male  Q  S\n",
       "0            1         0       3  22.0      1      0   7.2500     1  0  1\n",
       "1            2         1       1  38.0      1      0  71.2833     0  0  0\n",
       "2            3         1       3  26.0      0      0   7.9250     0  0  1\n",
       "3            4         1       1  35.0      1      0  53.1000     0  0  1\n",
       "4            5         0       3  35.0      0      0   8.0500     1  0  1"
      ]
     },
     "execution_count": 21,
     "metadata": {},
     "output_type": "execute_result"
    }
   ],
   "source": [
    "train.head()"
   ]
  },
  {
   "cell_type": "markdown",
   "metadata": {
    "papermill": {
     "duration": 0.056798,
     "end_time": "2020-10-03T01:14:29.891759",
     "exception": false,
     "start_time": "2020-10-03T01:14:29.834961",
     "status": "completed"
    },
    "tags": []
   },
   "source": [
    "#contruindo um modelo de regresão logistica\n",
    "#vamos dividir nossos dados em dados de treino e teste"
   ]
  },
  {
   "cell_type": "code",
   "execution_count": 22,
   "metadata": {
    "execution": {
     "iopub.execute_input": "2020-10-03T01:14:30.003571Z",
     "iopub.status.busy": "2020-10-03T01:14:30.002764Z",
     "iopub.status.idle": "2020-10-03T01:14:30.138885Z",
     "shell.execute_reply": "2020-10-03T01:14:30.138035Z"
    },
    "papermill": {
     "duration": 0.191424,
     "end_time": "2020-10-03T01:14:30.139029",
     "exception": false,
     "start_time": "2020-10-03T01:14:29.947605",
     "status": "completed"
    },
    "tags": []
   },
   "outputs": [],
   "source": [
    "from sklearn.model_selection import train_test_split"
   ]
  },
  {
   "cell_type": "code",
   "execution_count": 23,
   "metadata": {
    "execution": {
     "iopub.execute_input": "2020-10-03T01:14:30.249406Z",
     "iopub.status.busy": "2020-10-03T01:14:30.247324Z",
     "iopub.status.idle": "2020-10-03T01:14:30.254484Z",
     "shell.execute_reply": "2020-10-03T01:14:30.253772Z"
    },
    "papermill": {
     "duration": 0.06454,
     "end_time": "2020-10-03T01:14:30.254603",
     "exception": false,
     "start_time": "2020-10-03T01:14:30.190063",
     "status": "completed"
    },
    "tags": []
   },
   "outputs": [],
   "source": [
    "x_train, x_test, y_train, y_test = train_test_split(train.drop('Survived', axis = 1), train['Survived'], test_size = 0.30, random_state = 101)"
   ]
  },
  {
   "cell_type": "code",
   "execution_count": 24,
   "metadata": {
    "execution": {
     "iopub.execute_input": "2020-10-03T01:14:30.361406Z",
     "iopub.status.busy": "2020-10-03T01:14:30.360599Z",
     "iopub.status.idle": "2020-10-03T01:14:30.446138Z",
     "shell.execute_reply": "2020-10-03T01:14:30.445426Z"
    },
    "papermill": {
     "duration": 0.140823,
     "end_time": "2020-10-03T01:14:30.446270",
     "exception": false,
     "start_time": "2020-10-03T01:14:30.305447",
     "status": "completed"
    },
    "tags": []
   },
   "outputs": [],
   "source": [
    "from sklearn.linear_model import LogisticRegression"
   ]
  },
  {
   "cell_type": "markdown",
   "metadata": {
    "papermill": {
     "duration": 0.050694,
     "end_time": "2020-10-03T01:14:30.548236",
     "exception": false,
     "start_time": "2020-10-03T01:14:30.497542",
     "status": "completed"
    },
    "tags": []
   },
   "source": [
    "#treinando e predizendo"
   ]
  },
  {
   "cell_type": "code",
   "execution_count": 25,
   "metadata": {
    "execution": {
     "iopub.execute_input": "2020-10-03T01:14:30.657401Z",
     "iopub.status.busy": "2020-10-03T01:14:30.656626Z",
     "iopub.status.idle": "2020-10-03T01:14:30.660133Z",
     "shell.execute_reply": "2020-10-03T01:14:30.659408Z"
    },
    "papermill": {
     "duration": 0.060077,
     "end_time": "2020-10-03T01:14:30.660257",
     "exception": false,
     "start_time": "2020-10-03T01:14:30.600180",
     "status": "completed"
    },
    "tags": []
   },
   "outputs": [],
   "source": [
    "logmodel = LogisticRegression()"
   ]
  },
  {
   "cell_type": "code",
   "execution_count": 26,
   "metadata": {
    "execution": {
     "iopub.execute_input": "2020-10-03T01:14:30.770920Z",
     "iopub.status.busy": "2020-10-03T01:14:30.769915Z",
     "iopub.status.idle": "2020-10-03T01:14:30.830299Z",
     "shell.execute_reply": "2020-10-03T01:14:30.829559Z"
    },
    "papermill": {
     "duration": 0.118633,
     "end_time": "2020-10-03T01:14:30.830421",
     "exception": false,
     "start_time": "2020-10-03T01:14:30.711788",
     "status": "completed"
    },
    "tags": []
   },
   "outputs": [
    {
     "name": "stderr",
     "output_type": "stream",
     "text": [
      "/opt/conda/lib/python3.7/site-packages/sklearn/linear_model/_logistic.py:764: ConvergenceWarning: lbfgs failed to converge (status=1):\n",
      "STOP: TOTAL NO. of ITERATIONS REACHED LIMIT.\n",
      "\n",
      "Increase the number of iterations (max_iter) or scale the data as shown in:\n",
      "    https://scikit-learn.org/stable/modules/preprocessing.html\n",
      "Please also refer to the documentation for alternative solver options:\n",
      "    https://scikit-learn.org/stable/modules/linear_model.html#logistic-regression\n",
      "  extra_warning_msg=_LOGISTIC_SOLVER_CONVERGENCE_MSG)\n"
     ]
    },
    {
     "data": {
      "text/plain": [
       "LogisticRegression()"
      ]
     },
     "execution_count": 26,
     "metadata": {},
     "output_type": "execute_result"
    }
   ],
   "source": [
    "logmodel.fit(x_train, y_train)"
   ]
  },
  {
   "cell_type": "code",
   "execution_count": 27,
   "metadata": {
    "execution": {
     "iopub.execute_input": "2020-10-03T01:14:30.948896Z",
     "iopub.status.busy": "2020-10-03T01:14:30.947680Z",
     "iopub.status.idle": "2020-10-03T01:14:30.950792Z",
     "shell.execute_reply": "2020-10-03T01:14:30.951407Z"
    },
    "papermill": {
     "duration": 0.069016,
     "end_time": "2020-10-03T01:14:30.951573",
     "exception": false,
     "start_time": "2020-10-03T01:14:30.882557",
     "status": "completed"
    },
    "tags": []
   },
   "outputs": [],
   "source": [
    "predictions = logmodel.predict(x_test)"
   ]
  },
  {
   "cell_type": "markdown",
   "metadata": {
    "papermill": {
     "duration": 0.052085,
     "end_time": "2020-10-03T01:14:31.062425",
     "exception": false,
     "start_time": "2020-10-03T01:14:31.010340",
     "status": "completed"
    },
    "tags": []
   },
   "source": [
    "#avaliação"
   ]
  },
  {
   "cell_type": "code",
   "execution_count": 28,
   "metadata": {
    "execution": {
     "iopub.execute_input": "2020-10-03T01:14:31.172571Z",
     "iopub.status.busy": "2020-10-03T01:14:31.171831Z",
     "iopub.status.idle": "2020-10-03T01:14:31.174750Z",
     "shell.execute_reply": "2020-10-03T01:14:31.174039Z"
    },
    "papermill": {
     "duration": 0.059889,
     "end_time": "2020-10-03T01:14:31.174869",
     "exception": false,
     "start_time": "2020-10-03T01:14:31.114980",
     "status": "completed"
    },
    "tags": []
   },
   "outputs": [],
   "source": [
    "from sklearn.metrics import classification_report"
   ]
  },
  {
   "cell_type": "code",
   "execution_count": 29,
   "metadata": {
    "execution": {
     "iopub.execute_input": "2020-10-03T01:14:31.286627Z",
     "iopub.status.busy": "2020-10-03T01:14:31.285915Z",
     "iopub.status.idle": "2020-10-03T01:14:31.295662Z",
     "shell.execute_reply": "2020-10-03T01:14:31.296201Z"
    },
    "papermill": {
     "duration": 0.068716,
     "end_time": "2020-10-03T01:14:31.296363",
     "exception": false,
     "start_time": "2020-10-03T01:14:31.227647",
     "status": "completed"
    },
    "tags": []
   },
   "outputs": [
    {
     "name": "stdout",
     "output_type": "stream",
     "text": [
      "              precision    recall  f1-score   support\n",
      "\n",
      "           0       0.76      0.87      0.81       154\n",
      "           1       0.78      0.63      0.70       114\n",
      "\n",
      "    accuracy                           0.77       268\n",
      "   macro avg       0.77      0.75      0.76       268\n",
      "weighted avg       0.77      0.77      0.76       268\n",
      "\n"
     ]
    }
   ],
   "source": [
    "print(classification_report(y_test, predictions))"
   ]
  },
  {
   "cell_type": "markdown",
   "metadata": {
    "papermill": {
     "duration": 0.052682,
     "end_time": "2020-10-03T01:14:31.402209",
     "exception": false,
     "start_time": "2020-10-03T01:14:31.349527",
     "status": "completed"
    },
    "tags": []
   },
   "source": [
    "#obteve 77 por cento de precisão"
   ]
  },
  {
   "cell_type": "markdown",
   "metadata": {
    "papermill": {
     "duration": 0.052856,
     "end_time": "2020-10-03T01:14:31.508646",
     "exception": false,
     "start_time": "2020-10-03T01:14:31.455790",
     "status": "completed"
    },
    "tags": []
   },
   "source": [
    "#vamos tentar obter um resultado melhor usando arvores de decisão"
   ]
  },
  {
   "cell_type": "code",
   "execution_count": 30,
   "metadata": {
    "execution": {
     "iopub.execute_input": "2020-10-03T01:14:31.624426Z",
     "iopub.status.busy": "2020-10-03T01:14:31.623602Z",
     "iopub.status.idle": "2020-10-03T01:14:31.740155Z",
     "shell.execute_reply": "2020-10-03T01:14:31.739348Z"
    },
    "papermill": {
     "duration": 0.1769,
     "end_time": "2020-10-03T01:14:31.740300",
     "exception": false,
     "start_time": "2020-10-03T01:14:31.563400",
     "status": "completed"
    },
    "tags": []
   },
   "outputs": [],
   "source": [
    "from sklearn.tree import DecisionTreeClassifier"
   ]
  },
  {
   "cell_type": "code",
   "execution_count": 31,
   "metadata": {
    "execution": {
     "iopub.execute_input": "2020-10-03T01:14:31.854289Z",
     "iopub.status.busy": "2020-10-03T01:14:31.853517Z",
     "iopub.status.idle": "2020-10-03T01:14:31.856302Z",
     "shell.execute_reply": "2020-10-03T01:14:31.856913Z"
    },
    "papermill": {
     "duration": 0.062169,
     "end_time": "2020-10-03T01:14:31.857069",
     "exception": false,
     "start_time": "2020-10-03T01:14:31.794900",
     "status": "completed"
    },
    "tags": []
   },
   "outputs": [],
   "source": [
    "dtree = DecisionTreeClassifier()"
   ]
  },
  {
   "cell_type": "code",
   "execution_count": 32,
   "metadata": {
    "execution": {
     "iopub.execute_input": "2020-10-03T01:14:31.973581Z",
     "iopub.status.busy": "2020-10-03T01:14:31.972501Z",
     "iopub.status.idle": "2020-10-03T01:14:31.981327Z",
     "shell.execute_reply": "2020-10-03T01:14:31.981908Z"
    },
    "papermill": {
     "duration": 0.070232,
     "end_time": "2020-10-03T01:14:31.982073",
     "exception": false,
     "start_time": "2020-10-03T01:14:31.911841",
     "status": "completed"
    },
    "tags": []
   },
   "outputs": [
    {
     "data": {
      "text/plain": [
       "DecisionTreeClassifier()"
      ]
     },
     "execution_count": 32,
     "metadata": {},
     "output_type": "execute_result"
    }
   ],
   "source": [
    "dtree.fit(x_train, y_train)"
   ]
  },
  {
   "cell_type": "code",
   "execution_count": 33,
   "metadata": {
    "execution": {
     "iopub.execute_input": "2020-10-03T01:14:32.098919Z",
     "iopub.status.busy": "2020-10-03T01:14:32.098098Z",
     "iopub.status.idle": "2020-10-03T01:14:32.101501Z",
     "shell.execute_reply": "2020-10-03T01:14:32.100910Z"
    },
    "papermill": {
     "duration": 0.065057,
     "end_time": "2020-10-03T01:14:32.101615",
     "exception": false,
     "start_time": "2020-10-03T01:14:32.036558",
     "status": "completed"
    },
    "tags": []
   },
   "outputs": [],
   "source": [
    "pred = dtree.predict(x_test)"
   ]
  },
  {
   "cell_type": "code",
   "execution_count": 34,
   "metadata": {
    "execution": {
     "iopub.execute_input": "2020-10-03T01:14:32.217057Z",
     "iopub.status.busy": "2020-10-03T01:14:32.216283Z",
     "iopub.status.idle": "2020-10-03T01:14:32.225625Z",
     "shell.execute_reply": "2020-10-03T01:14:32.226579Z"
    },
    "papermill": {
     "duration": 0.070552,
     "end_time": "2020-10-03T01:14:32.226795",
     "exception": false,
     "start_time": "2020-10-03T01:14:32.156243",
     "status": "completed"
    },
    "tags": []
   },
   "outputs": [
    {
     "name": "stdout",
     "output_type": "stream",
     "text": [
      "              precision    recall  f1-score   support\n",
      "\n",
      "           0       0.75      0.82      0.79       154\n",
      "           1       0.73      0.63      0.68       114\n",
      "\n",
      "    accuracy                           0.74       268\n",
      "   macro avg       0.74      0.73      0.73       268\n",
      "weighted avg       0.74      0.74      0.74       268\n",
      "\n"
     ]
    }
   ],
   "source": [
    "print(classification_report(y_test, pred))"
   ]
  },
  {
   "cell_type": "code",
   "execution_count": 35,
   "metadata": {
    "execution": {
     "iopub.execute_input": "2020-10-03T01:14:32.342938Z",
     "iopub.status.busy": "2020-10-03T01:14:32.342156Z",
     "iopub.status.idle": "2020-10-03T01:14:32.376160Z",
     "shell.execute_reply": "2020-10-03T01:14:32.375458Z"
    },
    "papermill": {
     "duration": 0.093703,
     "end_time": "2020-10-03T01:14:32.376291",
     "exception": false,
     "start_time": "2020-10-03T01:14:32.282588",
     "status": "completed"
    },
    "tags": []
   },
   "outputs": [],
   "source": [
    "from sklearn.ensemble import RandomForestClassifier"
   ]
  },
  {
   "cell_type": "code",
   "execution_count": 36,
   "metadata": {
    "execution": {
     "iopub.execute_input": "2020-10-03T01:14:32.492880Z",
     "iopub.status.busy": "2020-10-03T01:14:32.492118Z",
     "iopub.status.idle": "2020-10-03T01:14:32.495083Z",
     "shell.execute_reply": "2020-10-03T01:14:32.494358Z"
    },
    "papermill": {
     "duration": 0.063053,
     "end_time": "2020-10-03T01:14:32.495208",
     "exception": false,
     "start_time": "2020-10-03T01:14:32.432155",
     "status": "completed"
    },
    "tags": []
   },
   "outputs": [],
   "source": [
    "rfc = RandomForestClassifier(n_estimators = 100)"
   ]
  },
  {
   "cell_type": "code",
   "execution_count": 37,
   "metadata": {
    "execution": {
     "iopub.execute_input": "2020-10-03T01:14:32.614089Z",
     "iopub.status.busy": "2020-10-03T01:14:32.613308Z",
     "iopub.status.idle": "2020-10-03T01:14:32.880921Z",
     "shell.execute_reply": "2020-10-03T01:14:32.880146Z"
    },
    "papermill": {
     "duration": 0.330177,
     "end_time": "2020-10-03T01:14:32.881048",
     "exception": false,
     "start_time": "2020-10-03T01:14:32.550871",
     "status": "completed"
    },
    "tags": []
   },
   "outputs": [
    {
     "data": {
      "text/plain": [
       "RandomForestClassifier()"
      ]
     },
     "execution_count": 37,
     "metadata": {},
     "output_type": "execute_result"
    }
   ],
   "source": [
    "rfc.fit(x_train, y_train)"
   ]
  },
  {
   "cell_type": "code",
   "execution_count": 38,
   "metadata": {
    "execution": {
     "iopub.execute_input": "2020-10-03T01:14:33.004948Z",
     "iopub.status.busy": "2020-10-03T01:14:33.003841Z",
     "iopub.status.idle": "2020-10-03T01:14:33.022257Z",
     "shell.execute_reply": "2020-10-03T01:14:33.021616Z"
    },
    "papermill": {
     "duration": 0.08266,
     "end_time": "2020-10-03T01:14:33.022385",
     "exception": false,
     "start_time": "2020-10-03T01:14:32.939725",
     "status": "completed"
    },
    "tags": []
   },
   "outputs": [],
   "source": [
    "rfc_pred = rfc.predict(x_test)"
   ]
  },
  {
   "cell_type": "code",
   "execution_count": 39,
   "metadata": {
    "execution": {
     "iopub.execute_input": "2020-10-03T01:14:33.141259Z",
     "iopub.status.busy": "2020-10-03T01:14:33.140506Z",
     "iopub.status.idle": "2020-10-03T01:14:33.150654Z",
     "shell.execute_reply": "2020-10-03T01:14:33.149985Z"
    },
    "papermill": {
     "duration": 0.071521,
     "end_time": "2020-10-03T01:14:33.150805",
     "exception": false,
     "start_time": "2020-10-03T01:14:33.079284",
     "status": "completed"
    },
    "tags": []
   },
   "outputs": [
    {
     "name": "stdout",
     "output_type": "stream",
     "text": [
      "              precision    recall  f1-score   support\n",
      "\n",
      "           0       0.81      0.91      0.86       154\n",
      "           1       0.85      0.72      0.78       114\n",
      "\n",
      "    accuracy                           0.83       268\n",
      "   macro avg       0.83      0.81      0.82       268\n",
      "weighted avg       0.83      0.83      0.83       268\n",
      "\n"
     ]
    }
   ],
   "source": [
    "print(classification_report(y_test, rfc_pred))"
   ]
  },
  {
   "cell_type": "markdown",
   "metadata": {
    "papermill": {
     "duration": 0.056284,
     "end_time": "2020-10-03T01:14:33.264417",
     "exception": false,
     "start_time": "2020-10-03T01:14:33.208133",
     "status": "completed"
    },
    "tags": []
   },
   "source": [
    "#a precisão aumentou ligeiramente"
   ]
  }
 ],
 "metadata": {
  "kernelspec": {
   "display_name": "Python 3",
   "language": "python",
   "name": "python3"
  },
  "language_info": {
   "codemirror_mode": {
    "name": "ipython",
    "version": 3
   },
   "file_extension": ".py",
   "mimetype": "text/x-python",
   "name": "python",
   "nbconvert_exporter": "python",
   "pygments_lexer": "ipython3",
   "version": "3.7.6"
  },
  "papermill": {
   "duration": 16.089399,
   "end_time": "2020-10-03T01:14:33.429880",
   "environment_variables": {},
   "exception": null,
   "input_path": "__notebook__.ipynb",
   "output_path": "__notebook__.ipynb",
   "parameters": {},
   "start_time": "2020-10-03T01:14:17.340481",
   "version": "2.1.0"
  }
 },
 "nbformat": 4,
 "nbformat_minor": 4
}
